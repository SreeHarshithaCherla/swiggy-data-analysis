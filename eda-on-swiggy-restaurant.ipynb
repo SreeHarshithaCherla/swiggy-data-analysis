{
 "cells": [
  {
   "cell_type": "markdown",
   "metadata": {},
   "source": [
    "# **EDA**\n",
    "**Hi there! In this section we are going to perform Exploratory Data Analysis on Google Play Store Apps.For this we are using Kaggle platform.For Analysing and visualizing the data we are using multiple libraries.Visualizing is very important ait it helps the users/developers to understand more and interact with the data.**"
   ]
  },
  {
   "cell_type": "markdown",
   "metadata": {},
   "source": [
    "**Importing the neccessary libraries.**"
   ]
  },
  {
   "cell_type": "code",
   "execution_count": null,
   "metadata": {
    "execution": {
     "iopub.execute_input": "2023-09-25T04:49:09.759842Z",
     "iopub.status.busy": "2023-09-25T04:49:09.759285Z",
     "iopub.status.idle": "2023-09-25T04:49:10.148963Z",
     "shell.execute_reply": "2023-09-25T04:49:10.148190Z",
     "shell.execute_reply.started": "2023-09-25T04:49:09.759811Z"
    }
   },
   "outputs": [],
   "source": [
    "import pandas as pd\n",
    "import numpy  as np\n",
    "import matplotlib.pyplot as plt"
   ]
  },
  {
   "cell_type": "markdown",
   "metadata": {},
   "source": [
    "**Loading the data using pandas**"
   ]
  },
  {
   "cell_type": "code",
   "execution_count": null,
   "metadata": {
    "execution": {
     "iopub.execute_input": "2023-09-25T05:27:08.865043Z",
     "iopub.status.busy": "2023-09-25T05:27:08.864589Z",
     "iopub.status.idle": "2023-09-25T05:27:08.935519Z",
     "shell.execute_reply": "2023-09-25T05:27:08.934477Z",
     "shell.execute_reply.started": "2023-09-25T05:27:08.864990Z"
    }
   },
   "outputs": [],
   "source": [
    "data =pd.read_csv(\"/kaggle/input/swiggy-restuarant-dataset/swiggy.csv\")\n",
    "data"
   ]
  },
  {
   "cell_type": "markdown",
   "metadata": {},
   "source": [
    "**Displaying the information of the dataset**"
   ]
  },
  {
   "cell_type": "code",
   "execution_count": null,
   "metadata": {
    "execution": {
     "iopub.execute_input": "2023-09-25T05:29:30.927275Z",
     "iopub.status.busy": "2023-09-25T05:29:30.926765Z",
     "iopub.status.idle": "2023-09-25T05:29:30.945903Z",
     "shell.execute_reply": "2023-09-25T05:29:30.944413Z",
     "shell.execute_reply.started": "2023-09-25T05:29:30.927243Z"
    }
   },
   "outputs": [],
   "source": [
    "data.info()"
   ]
  },
  {
   "cell_type": "markdown",
   "metadata": {},
   "source": [
    "**Sort the index**"
   ]
  },
  {
   "cell_type": "code",
   "execution_count": null,
   "metadata": {
    "execution": {
     "iopub.execute_input": "2023-09-25T05:29:37.256972Z",
     "iopub.status.busy": "2023-09-25T05:29:37.256615Z",
     "iopub.status.idle": "2023-09-25T05:29:37.262038Z",
     "shell.execute_reply": "2023-09-25T05:29:37.260925Z",
     "shell.execute_reply.started": "2023-09-25T05:29:37.256942Z"
    }
   },
   "outputs": [],
   "source": [
    "data.sort_index(inplace=True)"
   ]
  },
  {
   "cell_type": "markdown",
   "metadata": {},
   "source": [
    "**Describe the function of the data**"
   ]
  },
  {
   "cell_type": "code",
   "execution_count": null,
   "metadata": {
    "execution": {
     "iopub.execute_input": "2023-09-25T05:29:41.117755Z",
     "iopub.status.busy": "2023-09-25T05:29:41.117136Z",
     "iopub.status.idle": "2023-09-25T05:29:41.143671Z",
     "shell.execute_reply": "2023-09-25T05:29:41.142312Z",
     "shell.execute_reply.started": "2023-09-25T05:29:41.117722Z"
    }
   },
   "outputs": [],
   "source": [
    "data.describe()"
   ]
  },
  {
   "cell_type": "markdown",
   "metadata": {},
   "source": [
    "**Displaying the column names**"
   ]
  },
  {
   "cell_type": "code",
   "execution_count": null,
   "metadata": {
    "execution": {
     "iopub.execute_input": "2023-09-25T05:29:46.125780Z",
     "iopub.status.busy": "2023-09-25T05:29:46.125430Z",
     "iopub.status.idle": "2023-09-25T05:29:46.133191Z",
     "shell.execute_reply": "2023-09-25T05:29:46.131890Z",
     "shell.execute_reply.started": "2023-09-25T05:29:46.125751Z"
    }
   },
   "outputs": [],
   "source": [
    "data.columns"
   ]
  },
  {
   "cell_type": "markdown",
   "metadata": {},
   "source": [
    "**Checking the sum of all null values columnwise**"
   ]
  },
  {
   "cell_type": "code",
   "execution_count": null,
   "metadata": {
    "execution": {
     "iopub.execute_input": "2023-09-25T05:29:48.906082Z",
     "iopub.status.busy": "2023-09-25T05:29:48.904788Z",
     "iopub.status.idle": "2023-09-25T05:29:48.917314Z",
     "shell.execute_reply": "2023-09-25T05:29:48.916251Z",
     "shell.execute_reply.started": "2023-09-25T05:29:48.906032Z"
    }
   },
   "outputs": [],
   "source": [
    "data.isnull().sum()"
   ]
  },
  {
   "cell_type": "markdown",
   "metadata": {},
   "source": [
    "**Checking for duplicated values**"
   ]
  },
  {
   "cell_type": "code",
   "execution_count": null,
   "metadata": {
    "execution": {
     "iopub.execute_input": "2023-09-25T05:30:03.851071Z",
     "iopub.status.busy": "2023-09-25T05:30:03.850627Z",
     "iopub.status.idle": "2023-09-25T05:30:03.868796Z",
     "shell.execute_reply": "2023-09-25T05:30:03.867773Z",
     "shell.execute_reply.started": "2023-09-25T05:30:03.851034Z"
    }
   },
   "outputs": [],
   "source": [
    "data.duplicated().sum()"
   ]
  },
  {
   "cell_type": "markdown",
   "metadata": {},
   "source": [
    "**Displaying the top 10 rows**"
   ]
  },
  {
   "cell_type": "code",
   "execution_count": null,
   "metadata": {
    "execution": {
     "iopub.execute_input": "2023-09-25T05:30:06.096455Z",
     "iopub.status.busy": "2023-09-25T05:30:06.095780Z",
     "iopub.status.idle": "2023-09-25T05:30:06.115560Z",
     "shell.execute_reply": "2023-09-25T05:30:06.114283Z",
     "shell.execute_reply.started": "2023-09-25T05:30:06.096415Z"
    }
   },
   "outputs": [],
   "source": [
    "data.head(10)"
   ]
  },
  {
   "cell_type": "markdown",
   "metadata": {},
   "source": [
    "**Displaying the bottom 10 rows**"
   ]
  },
  {
   "cell_type": "code",
   "execution_count": null,
   "metadata": {
    "execution": {
     "iopub.execute_input": "2023-09-25T05:30:08.420638Z",
     "iopub.status.busy": "2023-09-25T05:30:08.420230Z",
     "iopub.status.idle": "2023-09-25T05:30:08.439650Z",
     "shell.execute_reply": "2023-09-25T05:30:08.438173Z",
     "shell.execute_reply.started": "2023-09-25T05:30:08.420609Z"
    }
   },
   "outputs": [],
   "source": [
    "data.tail(10)"
   ]
  },
  {
   "cell_type": "markdown",
   "metadata": {},
   "source": [
    "**Dimension of the data**"
   ]
  },
  {
   "cell_type": "code",
   "execution_count": null,
   "metadata": {
    "execution": {
     "iopub.execute_input": "2023-09-25T05:30:11.537545Z",
     "iopub.status.busy": "2023-09-25T05:30:11.536773Z",
     "iopub.status.idle": "2023-09-25T05:30:11.544388Z",
     "shell.execute_reply": "2023-09-25T05:30:11.543293Z",
     "shell.execute_reply.started": "2023-09-25T05:30:11.537499Z"
    }
   },
   "outputs": [],
   "source": [
    "data.shape"
   ]
  },
  {
   "cell_type": "markdown",
   "metadata": {},
   "source": [
    "**Checking the count of unique columns in each rows**"
   ]
  },
  {
   "cell_type": "code",
   "execution_count": null,
   "metadata": {
    "execution": {
     "iopub.execute_input": "2023-09-25T05:30:14.808381Z",
     "iopub.status.busy": "2023-09-25T05:30:14.807913Z",
     "iopub.status.idle": "2023-09-25T05:30:14.826928Z",
     "shell.execute_reply": "2023-09-25T05:30:14.825646Z",
     "shell.execute_reply.started": "2023-09-25T05:30:14.808345Z"
    }
   },
   "outputs": [],
   "source": [
    "data.nunique()"
   ]
  },
  {
   "cell_type": "markdown",
   "metadata": {},
   "source": [
    "# **Visualization**\n",
    "**In Matplotlib, charts are graphical representations of data used for visualizing and interpreting data patterns. Matplotlib provides various types of charts to help you present and understand your data effectively. Some of the most common types of charts you can create in Matplotlib include: Line Chart, Bar Chart, Scatter Plot, Pie Chart , Histogram, Box Plot, Heapmap, etc are mainly used for the visualization**"
   ]
  },
  {
   "cell_type": "markdown",
   "metadata": {},
   "source": [
    "## **1.Which city has the highest restaurants and which has the least**"
   ]
  },
  {
   "cell_type": "code",
   "execution_count": null,
   "metadata": {
    "execution": {
     "iopub.execute_input": "2023-09-25T05:43:09.740761Z",
     "iopub.status.busy": "2023-09-25T05:43:09.740338Z",
     "iopub.status.idle": "2023-09-25T05:43:10.061548Z",
     "shell.execute_reply": "2023-09-25T05:43:10.060212Z",
     "shell.execute_reply.started": "2023-09-25T05:43:09.740730Z"
    }
   },
   "outputs": [],
   "source": [
    "city = data.City.value_counts()\n",
    "\n",
    "plt.bar(city.index,city.values,color='red')\n",
    "\n",
    "plt.title(\"Restaurant counts by city\",fontdict={'fontweight':'bold'})\n",
    "plt.xticks(rotation='vertical')\n",
    "plt.xlabel(\"Cities\")\n",
    "plt.ylabel(\"Counts\")\n",
    "\n",
    "for i,v in enumerate(city.values):\n",
    "    plt.text(i,v,str(v),ha='center')\n",
    "plt.show()\n"
   ]
  },
  {
   "cell_type": "markdown",
   "metadata": {},
   "source": [
    "### **Insights:**\n",
    "**Kolkata has the highest number of restaurants that co-works with swiggy and surat has the least**"
   ]
  },
  {
   "cell_type": "markdown",
   "metadata": {},
   "source": [
    "## **2.Display the frequency of average rating appropriate chart**"
   ]
  },
  {
   "cell_type": "code",
   "execution_count": null,
   "metadata": {
    "execution": {
     "iopub.execute_input": "2023-09-25T05:51:46.293871Z",
     "iopub.status.busy": "2023-09-25T05:51:46.292858Z",
     "iopub.status.idle": "2023-09-25T05:51:46.560501Z",
     "shell.execute_reply": "2023-09-25T05:51:46.559325Z",
     "shell.execute_reply.started": "2023-09-25T05:51:46.293834Z"
    }
   },
   "outputs": [],
   "source": [
    "#create a histogram\n",
    "plt.hist(data['Avg ratings'])\n",
    "plt.xlabel('Average Ratings')\n",
    "plt.ylabel('Frequency os ratings')\n",
    "plt.title('Frequency of Average Ratings',fontdict={'fontweight':'bold'})\n",
    "plt.show()"
   ]
  },
  {
   "cell_type": "markdown",
   "metadata": {},
   "source": [
    "## **3.What is the top 10 ordered food type in swiggy**"
   ]
  },
  {
   "cell_type": "code",
   "execution_count": null,
   "metadata": {
    "execution": {
     "iopub.execute_input": "2023-09-25T06:16:17.391765Z",
     "iopub.status.busy": "2023-09-25T06:16:17.391321Z",
     "iopub.status.idle": "2023-09-25T06:16:17.681281Z",
     "shell.execute_reply": "2023-09-25T06:16:17.680362Z",
     "shell.execute_reply.started": "2023-09-25T06:16:17.391729Z"
    }
   },
   "outputs": [],
   "source": [
    "#create a bar chart\n",
    "food=data['Food type'].value_counts().head(10)\n",
    "plt.bar(food.index,food.values)\n",
    "\n",
    "plt.xticks(rotation='vertical')\n",
    "\n",
    "for i,v in enumerate(food.values):\n",
    "    plt.text(i,v+.25,str(v),ha='center')\n",
    "\n",
    "plt.title('Top 10 Ordered Food Types',fontdict={'fontweight':'bold'})\n",
    "plt.xlabel(\"Food Types\")\n",
    "plt.ylabel(\"Order Count\")\n",
    "\n",
    "plt.show()"
   ]
  },
  {
   "cell_type": "markdown",
   "metadata": {},
   "source": [
    "### **Insights:**\n",
    "**Indian food types has the most number of orders in swiggy and beverages has the least**"
   ]
  },
  {
   "cell_type": "markdown",
   "metadata": {},
   "source": [
    "## **4.Which are the top 10 restaurants with fast delivery in Bangalore city.**"
   ]
  },
  {
   "cell_type": "code",
   "execution_count": null,
   "metadata": {
    "execution": {
     "iopub.execute_input": "2023-09-25T06:14:56.960787Z",
     "iopub.status.busy": "2023-09-25T06:14:56.960377Z",
     "iopub.status.idle": "2023-09-25T06:14:57.265581Z",
     "shell.execute_reply": "2023-09-25T06:14:57.264242Z",
     "shell.execute_reply.started": "2023-09-25T06:14:56.960757Z"
    }
   },
   "outputs": [],
   "source": [
    "#Create b horizontal bar chart\n",
    "a = data.City == 'Bangalore'\n",
    "b = data[a]\n",
    "c =b.sort_values('Delivery time').head(10)\n",
    "\n",
    "plt.figure(figsize=(8,6))\n",
    "plt.barh(c.Restaurant[::-1],c['Delivery time'][::-1])\n",
    "for i,v in enumerate(c['Delivery time'][::-1]):\n",
    "    plt.text(v,i,str(v))\n",
    "\n",
    "plt.title('Top 10 Restaurants with Fastest Delivery in Bangalore',fontdict={'fontweight':'bold'})\n",
    "plt.xlabel('Time in minutes')\n",
    "plt.ylabel('Restaurant Names')\n",
    "plt.show()"
   ]
  },
  {
   "cell_type": "markdown",
   "metadata": {},
   "source": [
    "### **Insights:**\n",
    "**Mtr and Mcdonald's are the restaurant with fastest delivery time in bangalore**"
   ]
  },
  {
   "cell_type": "code",
   "execution_count": null,
   "metadata": {
    "execution": {
     "iopub.execute_input": "2023-09-25T05:30:20.313503Z",
     "iopub.status.busy": "2023-09-25T05:30:20.313103Z",
     "iopub.status.idle": "2023-09-25T05:30:20.335124Z",
     "shell.execute_reply": "2023-09-25T05:30:20.333903Z",
     "shell.execute_reply.started": "2023-09-25T05:30:20.313471Z"
    }
   },
   "outputs": [],
   "source": [
    "data"
   ]
  }
 ],
 "metadata": {
  "kernelspec": {
   "display_name": "Python 3 (ipykernel)",
   "language": "python",
   "name": "python3"
  },
  "language_info": {
   "codemirror_mode": {
    "name": "ipython",
    "version": 3
   },
   "file_extension": ".py",
   "mimetype": "text/x-python",
   "name": "python",
   "nbconvert_exporter": "python",
   "pygments_lexer": "ipython3",
   "version": "3.11.4"
  }
 },
 "nbformat": 4,
 "nbformat_minor": 4
}
